{
 "cells": [
  {
   "cell_type": "code",
   "execution_count": 1,
   "metadata": {},
   "outputs": [],
   "source": [
    "import json\n",
    "import random\n",
    "random.seed(42)"
   ]
  },
  {
   "cell_type": "code",
   "execution_count": 4,
   "metadata": {},
   "outputs": [
    {
     "data": {
      "text/plain": [
       "660"
      ]
     },
     "execution_count": 4,
     "metadata": {},
     "output_type": "execute_result"
    }
   ],
   "source": [
    "all_data = json.load(open(\"./ner_0727.json\",\"r\"))\n",
    "print(len(all_data))\n",
    "random.shuffle(all_data)"
   ]
  },
  {
   "cell_type": "code",
   "execution_count": 6,
   "metadata": {},
   "outputs": [],
   "source": [
    "\n",
    "def saved_as_json_line(data,saved_name,saved_dir):\n",
    "    with open(saved_dir+\"/\"+saved_name,\"w\",encoding=\"utf-8\") as f:\n",
    "        for paper in data:\n",
    "            f.write(\n",
    "                json.dumps(\n",
    "                    {\n",
    "                        \"text\":paper[\"text\"],\n",
    "                        \"tokens\":paper[\"tokens\"],\n",
    "                        \"entities\":paper[\"entities\"],\n",
    "                        \"relations\":paper[\"relations\"],\n",
    "                        \"id\":paper[\"paper_id\"]\n",
    "                    }\n",
    "                )+\"\\n\"\n",
    "            )\n"
   ]
  },
  {
   "cell_type": "code",
   "execution_count": 7,
   "metadata": {},
   "outputs": [],
   "source": [
    "saved_dir = \"../data\""
   ]
  },
  {
   "cell_type": "code",
   "execution_count": null,
   "metadata": {},
   "outputs": [],
   "source": [
    "saved_as_json_line(all_data[66:-66],\"train.json\",saved_dir=saved_dir)\n",
    "saved_as_json_line(all_data[:66],\"dev.json\",saved_dir=saved_dir)\n",
    "saved_as_json_line(all_data[-66:],\"test.json\",saved_dir=saved_dir)"
   ]
  }
 ],
 "metadata": {
  "kernelspec": {
   "display_name": "Python 3.8.13 ('ner')",
   "language": "python",
   "name": "python3"
  },
  "language_info": {
   "codemirror_mode": {
    "name": "ipython",
    "version": 3
   },
   "file_extension": ".py",
   "mimetype": "text/x-python",
   "name": "python",
   "nbconvert_exporter": "python",
   "pygments_lexer": "ipython3",
   "version": "3.8.13"
  },
  "orig_nbformat": 4,
  "vscode": {
   "interpreter": {
    "hash": "d729ad11766a84118990e4c2deb959541118c1c5f8c45bbd1614e77876236a6f"
   }
  }
 },
 "nbformat": 4,
 "nbformat_minor": 2
}
