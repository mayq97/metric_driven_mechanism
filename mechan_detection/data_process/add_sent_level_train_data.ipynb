{
 "cells": [
  {
   "cell_type": "code",
   "execution_count": 1,
   "metadata": {},
   "outputs": [],
   "source": [
    "import json\n",
    "import pandas as pd\n",
    "import scispacy\n",
    "import spacy\n",
    "from tqdm import tqdm_notebook,tqdm\n",
    "import random\n",
    "import numpy as np\n",
    "\n",
    "seed = 42\n",
    "np.random.seed(seed)\n",
    "random.seed(seed)"
   ]
  },
  {
   "cell_type": "markdown",
   "metadata": {},
   "source": [
    "add sentence granularity text to the original paragraph granularity training dataset. "
   ]
  },
  {
   "cell_type": "markdown",
   "metadata": {},
   "source": [
    "load data\n",
    "\n",
    "ony the train data\n"
   ]
  },
  {
   "cell_type": "code",
   "execution_count": 3,
   "metadata": {},
   "outputs": [],
   "source": [
    "train_data_abs = json.load(open(\"../data/train.json\",\"r\"))\n",
    "mechanism_data = json.load(open(\"../../mechan_ent_rel_ext/ann_result/ner_0730.json\",\"r\"))\n",
    "mechanism_paper_dict = {}\n",
    "for paper in mechanism_data:\n",
    "    mechanism_paper_dict[paper[\"paper_id\"]] = paper\n"
   ]
  },
  {
   "cell_type": "markdown",
   "metadata": {},
   "source": [
    "use scispacy split sentences"
   ]
  },
  {
   "cell_type": "code",
   "execution_count": 4,
   "metadata": {},
   "outputs": [
    {
     "data": {
      "text/plain": [
       "<spacy.pipeline.sentencizer.Sentencizer at 0x7fbf9dacde00>"
      ]
     },
     "execution_count": 4,
     "metadata": {},
     "output_type": "execute_result"
    }
   ],
   "source": [
    "nlp = spacy.load(\"en_core_sci_sm\")\n",
    "nlp.add_pipe('sentencizer')\n",
    "def split_para_to_sents(text):\n",
    "    doc = nlp(text)\n",
    "    sents = {}\n",
    "    for sent_idx , sent in enumerate(doc.sents):\n",
    "        sents[sent_idx] = sent.text\n",
    "    return sents"
   ]
  },
  {
   "cell_type": "markdown",
   "metadata": {},
   "source": [
    "gen data"
   ]
  },
  {
   "cell_type": "markdown",
   "metadata": {},
   "source": [
    "if the sentence contained an effect entity, it was labeled 1."
   ]
  },
  {
   "cell_type": "code",
   "execution_count": 6,
   "metadata": {},
   "outputs": [],
   "source": [
    "from itertools import combinations\n",
    "def gen_sents_with_label_data_from_mechanism_paper(paper_id):\n",
    "    paper = mechanism_paper_dict[paper_id]\n",
    "    data = []\n",
    "    for sent_idx,sent in paper[\"sents\"].items():\n",
    "        sent_idx = int(sent_idx)\n",
    "        item = {\n",
    "            \"text\":sent[\"text\"],\n",
    "            \"sent_idx\":sent_idx,\n",
    "            \"label\":0,\n",
    "            \"in_mechanism_paper\":1,\n",
    "            \"paper_id\":paper[\"paper_id\"]\n",
    "        }\n",
    "\n",
    "        if sent_idx in paper[\"ent_sent_idx_list\"][\"Effect\"]:\n",
    "            item[\"label\"] = 1\n",
    "            data.append(\n",
    "                item\n",
    "            )\n",
    "        \n",
    "    neg_sents = [sent[\"text\"] for sent_idx,sent in paper[\"sents\"].items() if int(sent_idx) not in paper[\"ent_sent_idx_list\"][\"Effect\"]]\n",
    "    data.append(\n",
    "        {\n",
    "            \"text\":\" \".join(neg_sents).strip(),\n",
    "            \"sent_idx\":0,\n",
    "            \"label\":0,\n",
    "            \"in_mechanism_paper\":1,\n",
    "            \"id\":paper[\"paper_id\"]\n",
    "        }\n",
    "    )\n",
    "\n",
    "\n",
    "    pos_sents = [sent[\"text\"] for sent_idx,sent in paper[\"sents\"].items() if int(sent_idx) in paper[\"ent_sent_idx_list\"][\"Effect\"] ]\n",
    "\n",
    "    if len( paper[\"ent_sent_idx_list\"][\"Effect\"]) > 1 :\n",
    "        data.append(\n",
    "        {\n",
    "            \"text\":\" \".join(pos_sents).strip(),\n",
    "            \"sent_idx\":0,\n",
    "            \"label\":1,\n",
    "            \"in_mechanism_paper\":1,\n",
    "            \"id\":paper[\"paper_id\"]\n",
    "        }\n",
    "        )\n",
    "    return data\n",
    "\n"
   ]
  },
  {
   "cell_type": "code",
   "execution_count": 7,
   "metadata": {},
   "outputs": [],
   "source": [
    "def gen_sents_with_label_data_from_non_mechanism_paper(paper):\n",
    "    data = []\n",
    "\n",
    "    for sent_idx,sent in split_para_to_sents(paper[\"text\"]).items():\n",
    "        sent = sent.strip()\n",
    "        if len(sent) < 15:\n",
    "            continue\n",
    "        item = {\n",
    "            \"text\":sent,\n",
    "            \"sent_idx\":sent_idx,\n",
    "            \"label\":0,\n",
    "            \"in_mechanism_paper\":0,\n",
    "            \"paper_id\":paper[\"id\"]\n",
    "        }\n",
    "        if sent_idx >= 4:\n",
    "            data.append(item)\n",
    "    return data"
   ]
  },
  {
   "cell_type": "markdown",
   "metadata": {},
   "source": [
    "### 数据生成"
   ]
  },
  {
   "cell_type": "code",
   "execution_count": 8,
   "metadata": {},
   "outputs": [
    {
     "name": "stderr",
     "output_type": "stream",
     "text": [
      "100%|██████████| 1000/1000 [00:00<00:00, 167277.02it/s]\n"
     ]
    },
    {
     "data": {
      "text/plain": [
       "431"
      ]
     },
     "execution_count": 8,
     "metadata": {},
     "output_type": "execute_result"
    }
   ],
   "source": [
    "data = []\n",
    "for paper in tqdm(train_data_abs):\n",
    "    if paper[\"id\"] in mechanism_paper_dict.keys():\n",
    "        temp = gen_sents_with_label_data_from_mechanism_paper( paper[\"id\"])\n",
    "        data.extend(temp)\n",
    "    # else:\n",
    "    #     data.extend(gen_sents_with_label_data_from_non_mechanism_paper(paper))\n",
    "len(data)"
   ]
  },
  {
   "cell_type": "markdown",
   "metadata": {},
   "source": [
    "save data"
   ]
  },
  {
   "cell_type": "code",
   "execution_count": 19,
   "metadata": {},
   "outputs": [
    {
     "data": {
      "text/plain": [
       "1431"
      ]
     },
     "execution_count": 19,
     "metadata": {},
     "output_type": "execute_result"
    }
   ],
   "source": [
    "random.shuffle(data)\n",
    "len(data)"
   ]
  },
  {
   "cell_type": "code",
   "execution_count": null,
   "metadata": {},
   "outputs": [],
   "source": [
    "target_dir = \"../data\"\n",
    "def save_data(saved_data,saved_name):\n",
    "    json.dump(\n",
    "        saved_data,open(target_dir+\"/\"+saved_name+\".json\",\"w\",encoding=\"utf-8\"),\n",
    "        indent=2,\n",
    "        ensure_ascii=False\n",
    "    )\n",
    "    print(\"save data to \",saved_name)\n",
    "save_data(data,\"train_with_sent_level_data\")"
   ]
  }
 ],
 "metadata": {
  "kernelspec": {
   "display_name": "Python 3.9.12 ('base')",
   "language": "python",
   "name": "python3"
  },
  "language_info": {
   "codemirror_mode": {
    "name": "ipython",
    "version": 3
   },
   "file_extension": ".py",
   "mimetype": "text/x-python",
   "name": "python",
   "nbconvert_exporter": "python",
   "pygments_lexer": "ipython3",
   "version": "3.9.12"
  },
  "orig_nbformat": 4,
  "vscode": {
   "interpreter": {
    "hash": "ac7e6f8ba559512d01305e12cbf49cb7b0ad03b4aedf70ed6341c021aeaa7d6d"
   }
  }
 },
 "nbformat": 4,
 "nbformat_minor": 2
}
