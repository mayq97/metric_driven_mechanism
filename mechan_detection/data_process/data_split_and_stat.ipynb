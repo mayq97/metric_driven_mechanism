{
 "cells": [
  {
   "cell_type": "code",
   "execution_count": 1,
   "metadata": {},
   "outputs": [],
   "source": [
    "import json\n",
    "from transformers import BertTokenizer\n",
    "import random\n",
    "import numpy as np\n",
    "\n",
    "seed = 42\n",
    "np.random.seed(seed)\n",
    "random.seed(seed)"
   ]
  },
  {
   "cell_type": "markdown",
   "metadata": {},
   "source": [
    "# 段落层次的机制检测数据生成"
   ]
  },
  {
   "cell_type": "code",
   "execution_count": 2,
   "metadata": {},
   "outputs": [],
   "source": [
    "all_data = json.load(open(\"../ann_result/mechanism_detect_4_year.json\",\"r\"))\n",
    "mechanism_data = json.load(open(\"../../mechan_ent_rel_ext/ann_result/ner_0730.json\",\"r\"))"
   ]
  },
  {
   "cell_type": "code",
   "execution_count": 5,
   "metadata": {},
   "outputs": [
    {
     "data": {
      "text/plain": [
       "660"
      ]
     },
     "execution_count": 5,
     "metadata": {},
     "output_type": "execute_result"
    }
   ],
   "source": [
    "pos_paper_ids_set = set([paper[\"paper_id\"] for paper in mechanism_data])\n",
    "len(pos_paper_ids_set)"
   ]
  },
  {
   "cell_type": "code",
   "execution_count": null,
   "metadata": {},
   "outputs": [],
   "source": [
    "data = []\n",
    "for paper in all_data:\n",
    "    if len(paper[\"text\"]) < 20:\n",
    "        continue\n",
    "    item = {\n",
    "        \"text\":paper[\"text\"],\n",
    "        \"label\":0,\n",
    "        \"id\":paper[\"id\"]\n",
    "    }\n",
    "    if paper[\"id\"] in pos_paper_ids_set:\n",
    "        item[\"label\"] = 1\n",
    "    data.append(item)\n"
   ]
  },
  {
   "cell_type": "markdown",
   "metadata": {},
   "source": [
    "# 统计摘要的长度"
   ]
  },
  {
   "cell_type": "markdown",
   "metadata": {},
   "source": [
    "## 通过bert的分词器进行分词"
   ]
  },
  {
   "cell_type": "code",
   "execution_count": 8,
   "metadata": {},
   "outputs": [],
   "source": [
    "import pandas as pd\n",
    "\n",
    "tokenizer = BertTokenizer.from_pretrained(\"文档/pretrained_model/sci_bert_allenai\")\n",
    "text_len = [len(tokenizer.encode(paper[\"text\"],add_special_tokens=False)) for paper in data]\n",
    "text_len = pd.Series(text_len)"
   ]
  },
  {
   "cell_type": "code",
   "execution_count": 11,
   "metadata": {},
   "outputs": [
    {
     "data": {
      "text/plain": [
       "count    1670.000000\n",
       "mean      184.784431\n",
       "std        50.529624\n",
       "min        46.000000\n",
       "25%       150.000000\n",
       "50%       183.000000\n",
       "75%       216.000000\n",
       "max       383.000000\n",
       "dtype: float64"
      ]
     },
     "execution_count": 11,
     "metadata": {},
     "output_type": "execute_result"
    }
   ],
   "source": [
    "text_len.describe()"
   ]
  },
  {
   "cell_type": "code",
   "execution_count": 12,
   "metadata": {},
   "outputs": [
    {
     "name": "stdout",
     "output_type": "stream",
     "text": [
      "307.30999999999995\n"
     ]
    }
   ],
   "source": [
    "print(text_len.quantile(0.99))"
   ]
  },
  {
   "cell_type": "code",
   "execution_count": 13,
   "metadata": {},
   "outputs": [
    {
     "data": {
      "text/plain": [
       "<AxesSubplot:ylabel='Frequency'>"
      ]
     },
     "execution_count": 13,
     "metadata": {},
     "output_type": "execute_result"
    },
    {
     "data": {
      "image/png": "[encoded data removed]",
      "text/plain": [
       "<Figure size 432x288 with 1 Axes>"
      ]
     },
     "metadata": {
      "needs_background": "light"
     },
     "output_type": "display_data"
    }
   ],
   "source": [
    "text_len.plot.hist(bins=25,color=\"steelblue\",\n",
    "        edgecolor=\"black\")"
   ]
  },
  {
   "cell_type": "markdown",
   "metadata": {},
   "source": [
    "# 训练数据，测试数据，验证数据划分"
   ]
  },
  {
   "cell_type": "markdown",
   "metadata": {},
   "source": [
    "## 设置随机种子"
   ]
  },
  {
   "cell_type": "code",
   "execution_count": 16,
   "metadata": {},
   "outputs": [
    {
     "data": {
      "text/plain": [
       "1670"
      ]
     },
     "execution_count": 16,
     "metadata": {},
     "output_type": "execute_result"
    }
   ],
   "source": [
    "random.shuffle(data)\n",
    "len(data)"
   ]
  },
  {
   "cell_type": "markdown",
   "metadata": {},
   "source": [
    "## 数据拆分"
   ]
  },
  {
   "cell_type": "code",
   "execution_count": 17,
   "metadata": {},
   "outputs": [],
   "source": [
    "train_data = data[335:-335]\n",
    "test_data = data[:335]\n",
    "dev_data = data[-335:]"
   ]
  },
  {
   "cell_type": "code",
   "execution_count": 18,
   "metadata": {},
   "outputs": [],
   "source": [
    "target_dir = \"../data\""
   ]
  },
  {
   "cell_type": "markdown",
   "metadata": {},
   "source": [
    "保存数据"
   ]
  },
  {
   "cell_type": "code",
   "execution_count": 19,
   "metadata": {},
   "outputs": [],
   "source": [
    "def save_data(saved_data,saved_name):\n",
    "    json.dump(\n",
    "        saved_data,open(target_dir+\"/\"+saved_name+\".json\",\"w\",encoding=\"utf-8\"),\n",
    "        indent=2,\n",
    "        ensure_ascii=False\n",
    "    )\n",
    "    print(\"save data to \",saved_name)"
   ]
  },
  {
   "cell_type": "code",
   "execution_count": 22,
   "metadata": {},
   "outputs": [
    {
     "name": "stdout",
     "output_type": "stream",
     "text": [
      "save data to  train\n",
      "save data to  dev\n",
      "save data to  test\n"
     ]
    }
   ],
   "source": [
    "save_data(train_data,\"train\")\n",
    "save_data(dev_data,\"dev\")\n",
    "save_data(test_data,\"test\")"
   ]
  }
 ],
 "metadata": {
  "kernelspec": {
   "display_name": "Python 3.9.12 ('base')",
   "language": "python",
   "name": "python3"
  },
  "language_info": {
   "codemirror_mode": {
    "name": "ipython",
    "version": 3
   },
   "file_extension": ".py",
   "mimetype": "text/x-python",
   "name": "python",
   "nbconvert_exporter": "python",
   "pygments_lexer": "ipython3",
   "version": "3.9.12"
  },
  "orig_nbformat": 4,
  "vscode": {
   "interpreter": {
    "hash": "ac7e6f8ba559512d01305e12cbf49cb7b0ad03b4aedf70ed6341c021aeaa7d6d"
   }
  }
 },
 "nbformat": 4,
 "nbformat_minor": 2
}
