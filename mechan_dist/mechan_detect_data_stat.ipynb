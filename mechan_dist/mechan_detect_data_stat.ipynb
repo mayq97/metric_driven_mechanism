{
 "cells": [
  {
   "cell_type": "markdown",
   "metadata": {},
   "source": [
    "统计各个年份acl long paper中包含机制的比例"
   ]
  },
  {
   "cell_type": "code",
   "execution_count": 1,
   "metadata": {},
   "outputs": [],
   "source": [
    "import json"
   ]
  },
  {
   "cell_type": "code",
   "execution_count": 2,
   "metadata": {},
   "outputs": [],
   "source": [
    "data = []\n",
    "total_papers_num = {\n",
    "    2010:0,\n",
    "    2011:0,\n",
    "    2020:0,\n",
    "    2021:0\n",
    "}"
   ]
  },
  {
   "cell_type": "markdown",
   "metadata": {},
   "source": [
    "load acl 2020 result"
   ]
  },
  {
   "cell_type": "code",
   "execution_count": 3,
   "metadata": {},
   "outputs": [],
   "source": [
    "_data = json.load(open(\"../mechan_detection/ann_result/acl_2020.json\",\"r\"))\n",
    "for paper in _data:\n",
    "    if \"2020\" in paper[\"id\"]:\n",
    "        paper[\"year\"] = 2020\n",
    "        paper[\"label\"] = paper[\"label\"][0]\n",
    "        data.append(paper)\n",
    "        total_papers_num[2020] +=1"
   ]
  },
  {
   "cell_type": "markdown",
   "metadata": {},
   "source": [
    "load acl 2021 result"
   ]
  },
  {
   "cell_type": "code",
   "execution_count": 4,
   "metadata": {},
   "outputs": [],
   "source": [
    "_data = json.load(open(\"../mechan_detection/ann_result/acl_2021.json\",\"r\"))\n",
    "for paper in _data:\n",
    "    if \"2021\" in paper[\"id\"]:\n",
    "        paper[\"year\"] = 2021\n",
    "        paper[\"label\"] = paper[\"label\"][0]\n",
    "        data.append(paper)\n",
    "        total_papers_num[2021] +=1"
   ]
  },
  {
   "cell_type": "markdown",
   "metadata": {},
   "source": [
    "load acl 2010，2011 result"
   ]
  },
  {
   "cell_type": "code",
   "execution_count": 5,
   "metadata": {},
   "outputs": [],
   "source": [
    "_data = json.load(open(\"../mechan_detection/ann_result/acl_2010-2011.json\",\"r\"))\n",
    "for paper in _data:\n",
    "    paper[\"label\"] = paper[\"label\"][0]\n",
    "    data.append(paper)\n",
    "    year = paper[\"year\"]\n",
    "    total_papers_num[year] +=1"
   ]
  },
  {
   "cell_type": "code",
   "execution_count": 6,
   "metadata": {},
   "outputs": [
    {
     "name": "stdout",
     "output_type": "stream",
     "text": [
      "total papers 1670\n"
     ]
    }
   ],
   "source": [
    "print(\"total papers\",len(data))"
   ]
  },
  {
   "cell_type": "code",
   "execution_count": 7,
   "metadata": {},
   "outputs": [],
   "source": [
    "papers_has_mechanism = []\n",
    "year_stat = {\n",
    "    2010:0,\n",
    "    2011:0,\n",
    "    2020:0,\n",
    "    2021:0\n",
    "}\n",
    "\n",
    "for paper in data:\n",
    "    if paper[\"label\"] == \"Pos\":\n",
    "        papers_has_mechanism.append(paper)\n",
    "        year_stat[paper[\"year\"]] += 1"
   ]
  },
  {
   "cell_type": "code",
   "execution_count": 8,
   "metadata": {},
   "outputs": [
    {
     "name": "stdout",
     "output_type": "stream",
     "text": [
      "2010 年发文量 159, 包含机制的论文数58，占比0.36477987421383645\n",
      "2011 年发文量 162, 包含机制的论文数73，占比0.4506172839506173\n",
      "2020 年发文量 778, 包含机制的论文数315，占比0.40488431876606684\n",
      "2021 年发文量 571, 包含机制的论文数255，占比0.44658493870402804\n"
     ]
    }
   ],
   "source": [
    "for year in [2010,2011,2020,2021]:\n",
    "    print(\"{} 年发文量 {}, 包含机制的论文数{}，占比{}\".format(\n",
    "        year,\n",
    "        total_papers_num[year],\n",
    "        year_stat[year],\n",
    "        year_stat[year]/total_papers_num[year]\n",
    "        ))"
   ]
  },
  {
   "cell_type": "code",
   "execution_count": 9,
   "metadata": {},
   "outputs": [
    {
     "data": {
      "text/plain": [
       "0.41976047904191616"
      ]
     },
     "execution_count": 9,
     "metadata": {},
     "output_type": "execute_result"
    }
   ],
   "source": [
    "len(papers_has_mechanism)/len(data)"
   ]
  },
  {
   "cell_type": "code",
   "execution_count": 10,
   "metadata": {},
   "outputs": [],
   "source": [
    "json.dump(\n",
    "    data,\n",
    "    open(\"../mechan_detection/ann_result/mechanism_detect_4_year.json\",\"w\"),\n",
    "    indent=2,ensure_ascii=False\n",
    ")"
   ]
  },
  {
   "cell_type": "code",
   "execution_count": 11,
   "metadata": {},
   "outputs": [],
   "source": [
    "json.dump(\n",
    "    papers_has_mechanism,\n",
    "    open(\"../mechan_detection/ann_result/papers_has_mechanism_4_year.json\",\"w\"),\n",
    "    indent=2,ensure_ascii=False\n",
    ")"
   ]
  },
  {
   "cell_type": "markdown",
   "metadata": {},
   "source": [
    "convert data to doccano format"
   ]
  },
  {
   "cell_type": "code",
   "execution_count": 12,
   "metadata": {},
   "outputs": [],
   "source": [
    "with open(\"../mechan_ent_rel_ext/data/papers_has_mechanism_4_year.jsonl\",\"w\",encoding=\"utf-8\") as f:\n",
    "    for paper in papers_has_mechanism:\n",
    "        f.write(\n",
    "            json.dumps({\n",
    "                \"text\":paper[\"text\"],\n",
    "                \"id\":paper[\"id\"],\n",
    "                \"year\":paper[\"year\"],\n",
    "                \"pdf_url\":paper[\"pdf_url\"],\n",
    "                \"entities\":[],\n",
    "                \"relations\":[]\n",
    "            }) + \"\\n\"\n",
    "        )"
   ]
  }
 ],
 "metadata": {
  "kernelspec": {
   "display_name": "Python 3.9.12 ('base')",
   "language": "python",
   "name": "python3"
  },
  "language_info": {
   "codemirror_mode": {
    "name": "ipython",
    "version": 3
   },
   "file_extension": ".py",
   "mimetype": "text/x-python",
   "name": "python",
   "nbconvert_exporter": "python",
   "pygments_lexer": "ipython3",
   "version": "3.9.12"
  },
  "orig_nbformat": 4,
  "vscode": {
   "interpreter": {
    "hash": "ac7e6f8ba559512d01305e12cbf49cb7b0ad03b4aedf70ed6341c021aeaa7d6d"
   }
  }
 },
 "nbformat": 4,
 "nbformat_minor": 2
}
